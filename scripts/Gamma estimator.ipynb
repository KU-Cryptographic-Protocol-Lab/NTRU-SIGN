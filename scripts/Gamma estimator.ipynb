{
 "cells": [
  {
   "cell_type": "code",
   "execution_count": 1,
   "metadata": {},
   "outputs": [],
   "source": [
    "def centered_binomial(n):\n",
    "    \"\"\"\n",
    "    Generate samples from a centered binomial distribution where:\n",
    "    - 1 with probability 1/4\n",
    "    - -1 with probability 1/4\n",
    "    - 0 with probability 1/2\n",
    "    \"\"\"\n",
    "    # Generate random values\n",
    "    random_values = np.random.choice([0, 1, -1], size=n, p=[0.5, 0.25, 0.25])\n",
    "    return random_values"
   ]
  },
  {
   "cell_type": "code",
   "execution_count": 2,
   "metadata": {},
   "outputs": [],
   "source": [
    "import numpy as np\n",
    "import scipy.fft as dft\n",
    "from math import sqrt\n",
    "\n",
    "def gamma_estimate(N, n, dim, eta, tau, rate):\n",
    "    \"\"\"\n",
    "    Samples N secret keys for random uniform matrices.\n",
    "    Compute the gamma value, as given in the documentation.\n",
    "    returns all the rate/100-th quantile of these values.\n",
    "    \"\"\"\n",
    "    res = []\n",
    "    i_max = n//tau\n",
    "    leftover = n % tau\n",
    "\n",
    "    for loop in range(N):\n",
    "        #Generate a secret\n",
    "        s1 = [np.concatenate((centered_binomial(n), np.array([0 for i in range(n)]))) for i in range(dim)]\n",
    "        #Generate a public key (assumed uniform here)\n",
    "        \n",
    "        #Compute the canonical embeddings and their norm\n",
    "        y = [dft.fft(s1[i])[1::2] for i in range(len(s1))]\n",
    "        norm_y = [np.linalg.norm([abs(y[i][j]) for i in range(len(y))]) for j in range(len(y[0]))]\n",
    "        \n",
    "        largest = max(norm_y)\n",
    "        \n",
    "        #We now compute the bound\n",
    "        sorted_y = sorted(norm_y, reverse = True)\n",
    "        #print(\"sorted_y[i_max] = \", sorted_y[i_max])\n",
    "        res.append(sqrt(tau**2*sum([x**2 for x in sorted_y[:i_max]])+(leftover*tau)*sorted_y[i_max]**2)/sqrt(n*tau))\n",
    "        #print(\"res\", res)\n",
    "    return([np.nanquantile(res, r/100) for r in rate])\n",
    "    #return(res)\n",
    "\n",
    "#print(\"Best 25%, 50% and max values for the two bounds: \"+str(S_estimate(10000, 256, 6, 1, 58, [10,25,50], 1, 2)))\n"
   ]
  },
  {
   "cell_type": "code",
   "execution_count": 9,
   "metadata": {},
   "outputs": [
    {
     "data": {
      "text/plain": [
       "[37.05201100585181, 37.786667634721894, 38.62230847943417, 40.44338530688907]"
      ]
     },
     "execution_count": 9,
     "metadata": {},
     "output_type": "execute_result"
    }
   ],
   "source": [
    "gamma_estimate(1000,512,2,1,20,[10,25,50,90])"
   ]
  },
  {
   "cell_type": "code",
   "execution_count": 10,
   "metadata": {},
   "outputs": [
    {
     "data": {
      "text/plain": [
       "[55.80754531267495, 56.7866170432812, 57.856027301996896, 60.17594385348165]"
      ]
     },
     "execution_count": 10,
     "metadata": {},
     "output_type": "execute_result"
    }
   ],
   "source": [
    "gamma_estimate(1000,1024,2,1,36,[10,25,50,90])"
   ]
  },
  {
   "cell_type": "code",
   "execution_count": 11,
   "metadata": {
    "scrolled": true
   },
   "outputs": [
    {
     "data": {
      "text/plain": [
       "168.9871149488587"
      ]
     },
     "execution_count": 11,
     "metadata": {},
     "output_type": "execute_result"
    }
   ],
   "source": [
    "37.786667634721894*sqrt(20)"
   ]
  },
  {
   "cell_type": "code",
   "execution_count": 12,
   "metadata": {},
   "outputs": [
    {
     "data": {
      "text/plain": [
       "340.719702259687"
      ]
     },
     "execution_count": 12,
     "metadata": {},
     "output_type": "execute_result"
    }
   ],
   "source": [
    "56.7866170432812*sqrt(36) "
   ]
  },
  {
   "cell_type": "code",
   "execution_count": null,
   "metadata": {},
   "outputs": [],
   "source": []
  }
 ],
 "metadata": {
  "kernelspec": {
   "display_name": "SageMath 9.2",
   "language": "sage",
   "name": "sagemath"
  },
  "language_info": {
   "codemirror_mode": {
    "name": "ipython",
    "version": 3
   },
   "file_extension": ".py",
   "mimetype": "text/x-python",
   "name": "python",
   "nbconvert_exporter": "python",
   "pygments_lexer": "ipython3",
   "version": "3.7.7"
  }
 },
 "nbformat": 4,
 "nbformat_minor": 4
}
