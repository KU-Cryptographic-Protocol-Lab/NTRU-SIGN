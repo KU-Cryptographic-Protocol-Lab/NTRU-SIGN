{
 "cells": [
  {
   "cell_type": "code",
   "execution_count": 1,
   "metadata": {},
   "outputs": [],
   "source": [
    "import numpy as np\n",
    "import scipy.fft as dft\n",
    "from math import sqrt"
   ]
  },
  {
   "cell_type": "code",
   "execution_count": 63,
   "metadata": {},
   "outputs": [],
   "source": [
    "def gamma_estimate(N, n, dim, eta, tau, rate, d, k):\n",
    "    \"\"\"\n",
    "    Samples N secret keys for random uniform matrices.\n",
    "    Compute the gamma value, as given in the documentation.\n",
    "    returns all the rate/100-th quantile of these values.\n",
    "    \"\"\"\n",
    "    res = []\n",
    "    i_max = n//tau\n",
    "    leftover = n % tau\n",
    "    coprime = np.array([i for i in range(1, 3*n) if gcd(n, i) == 1])\n",
    "    \n",
    "    for loop in range(N):\n",
    "        #Generate a secret\n",
    "        s0 = [np.concatenate((np.random.randint(0,2,size=n), np.array([0 for i in range(n)]))) for i in range(dim)]\n",
    "        s1 = [np.concatenate((np.random.randint(0,2,size=n), np.array([0 for i in range(n)]))) for i in range(dim)]\n",
    "        for i in range(len(s1)):\n",
    "            s1[i] = s0[i]-s1[i]\n",
    "      \n",
    "        #Compute the canonical embeddings and their norm\n",
    "        y = [dft.fft(s1[i], 3*n)[coprime] for i in range(len(s1))]\n",
    "        norm_y = [np.linalg.norm([abs(y[i][j]) for i in range(len(y))]) for j in range(len(y[0]))]\n",
    "        largest = max(norm_y)\n",
    "        #We now compute the bound\n",
    "        sorted_y = sorted(norm_y, reverse = True)\n",
    "        res.append(sqrt(tau**2*sum([x**2 for x in sorted_y[:i_max]])+(leftover*tau)*sorted_y[i_max]**2)/sqrt(n*tau))\n",
    "    return([np.nanquantile(res, r/100) for r in rate])\n"
   ]
  },
  {
   "cell_type": "code",
   "execution_count": 100,
   "metadata": {},
   "outputs": [],
   "source": [
    "##NTRU+SIGN768"
   ]
  },
  {
   "cell_type": "code",
   "execution_count": 64,
   "metadata": {},
   "outputs": [
    {
     "data": {
      "text/plain": [
       "[47.638779798608,\n",
       " 48.56201826331061,\n",
       " 49.73093772765216,\n",
       " 50.978652721632905,\n",
       " 51.29511891057832,\n",
       " 51.589966096004616,\n",
       " 51.99366678514116,\n",
       " 55.25604732929023]"
      ]
     },
     "execution_count": 64,
     "metadata": {},
     "output_type": "execute_result"
    }
   ],
   "source": [
    "gamma_estimate(1000, 768, 2, 1, 33, [10,25,50,75, 80, 85, 90, 100], 1, 1) "
   ]
  },
  {
   "cell_type": "code",
   "execution_count": 89,
   "metadata": {},
   "outputs": [
    {
     "data": {
      "text/plain": [
       "298.659811993512"
      ]
     },
     "execution_count": 89,
     "metadata": {},
     "output_type": "execute_result"
    }
   ],
   "source": [
    "51.99*sqrt(33)"
   ]
  },
  {
   "cell_type": "code",
   "execution_count": 65,
   "metadata": {},
   "outputs": [
    {
     "data": {
      "text/plain": [
       "[63.407342695005,\n",
       " 64.5259279650371,\n",
       " 65.85304938802724,\n",
       " 67.16137793767972,\n",
       " 67.50766090170431,\n",
       " 67.91379523377447,\n",
       " 68.32228760315633,\n",
       " 71.97134073124923]"
      ]
     },
     "execution_count": 65,
     "metadata": {},
     "output_type": "execute_result"
    }
   ],
   "source": [
    "gamma_estimate(1000, 1296, 2, 1, 41, [10,25,50,75, 80, 85, 90, 100], 1, 1) "
   ]
  },
  {
   "cell_type": "code",
   "execution_count": 98,
   "metadata": {},
   "outputs": [
    {
     "data": {
      "text/plain": [
       "437.461447901412"
      ]
     },
     "execution_count": 98,
     "metadata": {},
     "output_type": "execute_result"
    }
   ],
   "source": [
    "68.32*sqrt(41)"
   ]
  }
 ],
 "metadata": {
  "kernelspec": {
   "display_name": "SageMath 9.2",
   "language": "sage",
   "name": "sagemath"
  },
  "language_info": {
   "codemirror_mode": {
    "name": "ipython",
    "version": 3
   },
   "file_extension": ".py",
   "mimetype": "text/x-python",
   "name": "python",
   "nbconvert_exporter": "python",
   "pygments_lexer": "ipython3",
   "version": "3.7.7"
  }
 },
 "nbformat": 4,
 "nbformat_minor": 4
}
