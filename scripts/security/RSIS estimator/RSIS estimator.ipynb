{
 "cells": [
  {
   "cell_type": "code",
   "execution_count": 2,
   "metadata": {},
   "outputs": [],
   "source": [
    "from math import log, sqrt, erf, sqrt\n",
    "from model_BKZ import *\n",
    "from scipy.special import betainc, gamma, erf\n",
    "import numpy as np"
   ]
  },
  {
   "cell_type": "code",
   "execution_count": 3,
   "metadata": {},
   "outputs": [],
   "source": [
    "log_infinity = 9999\n",
    "\n",
    "STEPS_b = 1\n",
    "STEPS_m = 5"
   ]
  },
  {
   "cell_type": "code",
   "execution_count": 4,
   "metadata": {},
   "outputs": [],
   "source": [
    "def gaussian_center_weight(sigma, t):\n",
    "    \"\"\" Weight of the gaussian of std deviation s, on the interval [-t, t]\n",
    "    :param x: (float)\n",
    "    :param y: (float)\n",
    "    :returns: erf( t / (sigma*\\sqrt 2) )\n",
    "    \"\"\"\n",
    "    return erf(t / (sigma * sqrt(2.)))"
   ]
  },
  {
   "cell_type": "code",
   "execution_count": 5,
   "metadata": {},
   "outputs": [],
   "source": [
    "def SIS_l2_cost(q, w, h, B, b, cost_svp=svp_classical, verbose=False):\n",
    "    \"\"\" Return the cost of finding a vector shorter than B with BKZ-b if it works.\n",
    "    The equation is Ax = 0 mod q, where A has h rows, and w collumns (h equations in dim w).\n",
    "    \"\"\"\n",
    "    def volume(d, r):\n",
    "        res = (2*r)**(d%2)\n",
    "        for i in range(d//2):\n",
    "            res = res*(2*pi)*r**2/(2*i+2+d%2)\n",
    "        return res\n",
    "    if B>=sqrt(w)*q/2:\n",
    "        if verbose:\n",
    "            print (\"Norm too big. Trivial attack. Concluding 0 bits of security.\")\n",
    "        return 0\n",
    "    l = BKZ_first_length(q, h, w-h, b)\n",
    "    if l > B:\n",
    "        if B<q:\n",
    "            return log_infinity\n",
    "        (i,_,L) = construct_BKZ_shape(q, h, w-h, b)\n",
    "        l = exp(L[i])\n",
    "        #Even if the first i-1 coordinates are 0, the vector is too long.\n",
    "        if (l > B):\n",
    "            return log_infinity\n",
    "        r = sqrt(B**2-l**2)\n",
    "        #Whatever the first coordinates, the vector will be short enough.\n",
    "        if r>= sqrt(i-1)*floor(q/2):\n",
    "            return cost_svp(b)\n",
    "        #In other cases, we compute the probability that the vector is short enough\n",
    "        h1 = r-floor(q/2)\n",
    "        p_1 = volume(i-1,r/q)*(1-betainc(i/2.,1/2.,(2*r*h1-h1**2)/r**2))\n",
    "        #print(p_1)\n",
    "        if 1-(1-p_1)**(2**nvec_sieve(b))<=0:\n",
    "            log_p_head = -log_infinity\n",
    "        else:\n",
    "            log_p_head = log(1-(1-p_1)**(2**nvec_sieve(b)),2)\n",
    "        #if(erf(sqrt(10)*(3*(r/floor(q/2))**2-(i-1))/(4*sqrt(i-1))) + erf(sqrt(10*(i-1))/4))<=0:\n",
    "        #    #print(\"Warning, accuracy too low\")\n",
    "        #    log_p_head = -log_infinity\n",
    "        #else:\n",
    "        #    log_p_head = log( 1-(1-p)**(exp(b*.2075))  ,2)\n",
    "        #    log_p_head = (i-1)*log(2*floor(q/2)/q,2) + log(erf(sqrt(10)*(3*(r/floor(q/2))**2-(i-1))/(4*sqrt(i-1))) + erf(sqrt(10*(i-1))/4),2)-1\n",
    "        return cost_svp(b) + max(0, - log_p_head)\n",
    "        #COMPUTE THIS DIFFERENTLY\n",
    "    if verbose:\n",
    "        print (\"Attack uses block-size %d and %d equations\"%(b, h))\n",
    "        print (\"shortest vector used has length l=%.2f, q=%d, `l<q'= %d\"%(l, q, l<q))\n",
    "    return cost_svp(b)"
   ]
  },
  {
   "cell_type": "code",
   "execution_count": 6,
   "metadata": {},
   "outputs": [],
   "source": [
    "def SIS_linf_cost(q, w, h, B, b, cost_svp=svp_classical, verbose=False):\n",
    "    \"\"\" Return the cost of finding a vector shorter than B in infinity norm, using BKZ-b, if it works.\n",
    "    The equation is Ax = 0 mod q, where A has h rows, and w columns (h equations in dim w).\n",
    "    \"\"\"\n",
    "    (i, j, L) = construct_BKZ_shape_randomized(q, h, w-h, b)\n",
    "    #(i, j, L) = construct_BKZ_shape(h * log(q), 1, w-1, b)\n",
    "\n",
    "    \n",
    "    l = exp(L[i])\n",
    "    d = j - i + 1\n",
    "    sigma = l / sqrt(j - i + 1)\n",
    "    p_middle = gaussian_center_weight(sigma, B)\n",
    "    p_head = 2.*B / q\n",
    "\n",
    "    log2_eps = d * log(p_middle, 2) + i * log(p_head, 2)\n",
    "    log2_R = max(0, - log2_eps - nvec_sieve(b)) \n",
    "\n",
    "    if verbose:\n",
    "        print (\"Attack uses block-size %d and %d dimensions, with %d q-vectors\"%(b, w, i))\n",
    "        print (\"log2(epsilon) = %.2f, log2 nvector per run %.2f\"%(log2_eps, nvec_sieve(b)))\n",
    "        print (\"shortest vector used has length l=%.2f, q=%d, `l<q'= %d\"%(l, q, l<q))\n",
    "    return cost_svp(b) + log2_R"
   ]
  },
  {
   "cell_type": "code",
   "execution_count": 7,
   "metadata": {},
   "outputs": [],
   "source": [
    "def SIS_optimize_attack(q, max_w, h, B, cost_attack=SIS_linf_cost, cost_svp=svp_classical, verbose=False):\n",
    "    \"\"\" Find optimal parameters for a given attack\n",
    "    \"\"\"\n",
    "    best_cost = log_infinity\n",
    "\n",
    "    for b in range(50, max_w, STEPS_b):\n",
    "        if cost_svp(b) > best_cost:\n",
    "            break\n",
    "        for w in [max_w]:    # No need to exhaust w here as the attack will auto-adjust anyway  range(max(h+1, b+1), max_w, STEPS_m):\n",
    "            cost = cost_attack(q, w, h, B, b, cost_svp)\n",
    "            if cost<=best_cost:\n",
    "                best_cost = cost\n",
    "                best_w = w\n",
    "                best_b = b\n",
    "\n",
    "    if verbose:\n",
    "        cost_attack(q, best_w, h, B, best_b, cost_svp=cost_svp, verbose=verbose)\n",
    "\n",
    "    return (best_w, best_b, best_cost)"
   ]
  },
  {
   "cell_type": "code",
   "execution_count": 8,
   "metadata": {},
   "outputs": [],
   "source": [
    "def check_eq(m_pc, m_pq, m_pp):\n",
    "    if (m_pc != m_pq):\n",
    "        print(\"m and b not equals among the three models\")\n",
    "    if (m_pq != m_pp):\n",
    "        print(\"m and b not equals among the three models\")"
   ]
  },
  {
   "cell_type": "code",
   "execution_count": 9,
   "metadata": {},
   "outputs": [],
   "source": [
    "def MSIS_summarize_attacks(ps):\n",
    "    \"\"\" Create a report on the best primal and dual BKZ attacks on an l_oo - MSIS instance\n",
    "    \"\"\"\n",
    "    q = ps.q\n",
    "    h = ps.n * ps.h\n",
    "    max_w = ps.n * ps.w\n",
    "    B = ps.B\n",
    "\n",
    "    attack = SIS_l2_cost\n",
    "\n",
    "\n",
    "    (m_pc, b_pc, c_pc) = SIS_optimize_attack(q, max_w, h, B, cost_attack=attack, cost_svp=svp_classical, verbose=True)\n",
    "    (m_pq, b_pq, c_pq) = SIS_optimize_attack(q, max_w, h, B, cost_attack=attack, cost_svp=svp_quantum, verbose=False)\n",
    "    (m_pp, b_pp, c_pp) = SIS_optimize_attack(q, max_w, h, B, cost_attack=attack, cost_svp=svp_plausible, verbose=False)\n",
    "\n",
    "    check_eq(m_pc, m_pq, m_pp)\n",
    "    check_eq(b_pc, b_pq, b_pp)\n",
    "\n",
    "    print(\"SIS & %d & %d & %d & %d & %d\"%(m_pq, b_pq, int(floor(c_pc)), int(floor(c_pq)), int(floor(c_pp))))\n",
    "\n",
    "    return (b_pq, int(floor(c_pc)), int(floor(c_pq)), int(floor(c_pp)))"
   ]
  },
  {
   "cell_type": "code",
   "execution_count": 10,
   "metadata": {},
   "outputs": [],
   "source": [
    "class MSISParameterSet:\n",
    "    def __init__(self, n, w, h, B, q):\n",
    "        self.n = n      # Ring Dimension\n",
    "        self.w = w      # RSIS dimension (# of column = 2)\n",
    "        self.h = h      # Number of equations (# of row = 1)\n",
    "        self.B = B      # norm bound\n",
    "        self.q = q      # Modulus\n",
    "        #self.norm = norm"
   ]
  },
  {
   "cell_type": "markdown",
   "metadata": {},
   "source": [
    "# Parameter test"
   ]
  },
  {
   "cell_type": "markdown",
   "metadata": {},
   "source": [
    "##  NTRU+SIGN768"
   ]
  },
  {
   "cell_type": "code",
   "execution_count": 11,
   "metadata": {},
   "outputs": [],
   "source": [
    "# lambda = 128\n",
    "\n",
    "ps1=MSISParameterSet(768, 2, 1, 11981, 7681)"
   ]
  },
  {
   "cell_type": "code",
   "execution_count": 12,
   "metadata": {},
   "outputs": [
    {
     "name": "stdout",
     "output_type": "stream",
     "text": [
      "Attack uses block-size 542 and 768 equations\n",
      "shortest vector used has length l=11927.93, q=7681, `l<q'= 0\n",
      "SIS & 1536 & 542 & 158 & 139 & 112\n"
     ]
    },
    {
     "data": {
      "text/plain": [
       "(542, 158, 139, 112)"
      ]
     },
     "execution_count": 12,
     "metadata": {},
     "output_type": "execute_result"
    }
   ],
   "source": [
    "MSIS_summarize_attacks(ps1)"
   ]
  },
  {
   "cell_type": "markdown",
   "metadata": {},
   "source": [
    "##  NTRU+SIGN1024"
   ]
  },
  {
   "cell_type": "code",
   "execution_count": 13,
   "metadata": {},
   "outputs": [],
   "source": [
    "# lambda = 192\n",
    "\n",
    "ps2=MSISParameterSet(1024, 2, 1, 14134, 7681)"
   ]
  },
  {
   "cell_type": "code",
   "execution_count": 14,
   "metadata": {},
   "outputs": [
    {
     "name": "stdout",
     "output_type": "stream",
     "text": [
      "Attack uses block-size 766 and 1024 equations\n",
      "shortest vector used has length l=14108.02, q=7681, `l<q'= 0\n",
      "SIS & 2048 & 766 & 224 & 196 & 158\n"
     ]
    },
    {
     "data": {
      "text/plain": [
       "(766, 224, 196, 158)"
      ]
     },
     "execution_count": 14,
     "metadata": {},
     "output_type": "execute_result"
    }
   ],
   "source": [
    "MSIS_summarize_attacks(ps2)"
   ]
  },
  {
   "cell_type": "markdown",
   "metadata": {},
   "source": [
    "##  NTRU+SIGN1296"
   ]
  },
  {
   "cell_type": "code",
   "execution_count": 15,
   "metadata": {},
   "outputs": [],
   "source": [
    "# lambda = 256\n",
    "\n",
    "ps3=MSISParameterSet(1296, 2, 1, 26475, 9721)"
   ]
  },
  {
   "cell_type": "code",
   "execution_count": 16,
   "metadata": {},
   "outputs": [
    {
     "name": "stdout",
     "output_type": "stream",
     "text": [
      "Attack uses block-size 917 and 1296 equations\n",
      "shortest vector used has length l=26425.87, q=9721, `l<q'= 0\n",
      "SIS & 2592 & 917 & 268 & 235 & 190\n"
     ]
    },
    {
     "data": {
      "text/plain": [
       "(917, 268, 235, 190)"
      ]
     },
     "execution_count": 16,
     "metadata": {},
     "output_type": "execute_result"
    }
   ],
   "source": [
    "MSIS_summarize_attacks(ps3)"
   ]
  }
 ],
 "metadata": {
  "kernelspec": {
   "display_name": "Python 3",
   "language": "python",
   "name": "python3"
  },
  "language_info": {
   "codemirror_mode": {
    "name": "ipython",
    "version": 3
   },
   "file_extension": ".py",
   "mimetype": "text/x-python",
   "name": "python",
   "nbconvert_exporter": "python",
   "pygments_lexer": "ipython3",
   "version": "3.7.7"
  }
 },
 "nbformat": 4,
 "nbformat_minor": 4
}
