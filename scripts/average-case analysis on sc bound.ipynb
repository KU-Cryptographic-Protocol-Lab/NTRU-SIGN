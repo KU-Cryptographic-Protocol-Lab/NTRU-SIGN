{
 "cells": [
  {
   "cell_type": "code",
   "execution_count": 24,
   "metadata": {},
   "outputs": [],
   "source": [
    "R.<x> = QQ[]"
   ]
  },
  {
   "cell_type": "code",
   "execution_count": 25,
   "metadata": {},
   "outputs": [],
   "source": [
    "n = 1024\n",
    "q = 7681\n",
    "tau = 36"
   ]
  },
  {
   "cell_type": "code",
   "execution_count": 26,
   "metadata": {},
   "outputs": [],
   "source": [
    "table = [1/4, 1/2, 1/4]"
   ]
  },
  {
   "cell_type": "code",
   "execution_count": 27,
   "metadata": {},
   "outputs": [],
   "source": [
    "poly1 = 0;\n",
    "for i in range(3):\n",
    "    poly1 += table[i]*x^i\n"
   ]
  },
  {
   "cell_type": "code",
   "execution_count": 28,
   "metadata": {},
   "outputs": [],
   "source": [
    "p = 1;\n",
    "\n",
    "poly2 = poly1^tau\n",
    "coef = poly2.coefficients()"
   ]
  },
  {
   "cell_type": "code",
   "execution_count": 29,
   "metadata": {},
   "outputs": [],
   "source": [
    "table3 = [0] * len(coef)"
   ]
  },
  {
   "cell_type": "code",
   "execution_count": 30,
   "metadata": {},
   "outputs": [],
   "source": [
    "for i in range(tau+1):\n",
    "    table3[i] = (coef[tau+i] + coef[tau-i])\n",
    "table3[0] = coef[tau]"
   ]
  },
  {
   "cell_type": "code",
   "execution_count": 31,
   "metadata": {},
   "outputs": [],
   "source": [
    "test_poly = 0;\n",
    "for i in range(h+1):\n",
    "    test_poly += table3[i]*x^(i^2)"
   ]
  },
  {
   "cell_type": "code",
   "execution_count": 32,
   "metadata": {},
   "outputs": [],
   "source": [
    "test_poly_final1 = 1\n",
    "\n",
    "test_poly_final1 = test_poly * test_poly\n",
    "for i in range(log(n/2,2)) : \n",
    "    test_poly_final1 = test_poly_final1 * test_poly_final1"
   ]
  },
  {
   "cell_type": "code",
   "execution_count": 33,
   "metadata": {},
   "outputs": [
    {
     "name": "stdout",
     "output_type": "stream",
     "text": [
      "i = 38901\n",
      "prob =  281.001543219537577538670245237252165870622536177179067903151469033966801656414972735787293482966457437971554155272076524019627547232684382641421918268036\n",
      "CPU times: user 2min 22s, sys: 52.3 ms, total: 2min 22s\n",
      "Wall time: 2min 22s\n"
     ]
    }
   ],
   "source": [
    "%%time\n",
    "sum = 0\n",
    "for i in range(100000) :\n",
    "    sum += test_poly_final1[i]\n",
    "    if(-log(1-sum, 2)>281):\n",
    "        print(\"i =\",i)\n",
    "        print(\"prob = \", -log(1-sum, 2).n(512))\n",
    "        break\n",
    "#log(2,1-sum).n(512)"
   ]
  }
 ],
 "metadata": {
  "kernelspec": {
   "display_name": "SageMath 9.2",
   "language": "sage",
   "name": "sagemath"
  },
  "language_info": {
   "codemirror_mode": {
    "name": "ipython",
    "version": 3
   },
   "file_extension": ".py",
   "mimetype": "text/x-python",
   "name": "python",
   "nbconvert_exporter": "python",
   "pygments_lexer": "ipython3",
   "version": "3.7.7"
  }
 },
 "nbformat": 4,
 "nbformat_minor": 4
}
